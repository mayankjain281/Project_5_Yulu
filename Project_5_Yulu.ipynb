{
  "nbformat": 4,
  "nbformat_minor": 0,
  "metadata": {
    "colab": {
      "provenance": [],
      "collapsed_sections": [
        "iFotbOcCMPUX",
        "BD4zH6f2MDcF",
        "kfnwMKJ_L0Ta",
        "ivQ75QBImIFE",
        "yqNmR4FSSRpG",
        "JK9H8Jp3bG-q",
        "28K8FBj7t3tx",
        "aAMAWpICvC2U"
      ],
      "authorship_tag": "ABX9TyM3yZbLikHaTQWTcLoIC58b",
      "include_colab_link": true
    },
    "kernelspec": {
      "name": "python3",
      "display_name": "Python 3"
    },
    "language_info": {
      "name": "python"
    }
  },
  "cells": [
    {
      "cell_type": "markdown",
      "metadata": {
        "id": "view-in-github",
        "colab_type": "text"
      },
      "source": [
        "<a href=\"https://colab.research.google.com/github/mayankjain281/Project_5_Yulu/blob/main/Project_5_Yulu.ipynb\" target=\"_parent\"><img src=\"https://colab.research.google.com/assets/colab-badge.svg\" alt=\"Open In Colab\"/></a>"
      ]
    },
    {
      "cell_type": "markdown",
      "source": [
        "### Business Problem\n"
      ],
      "metadata": {
        "id": "iFotbOcCMPUX"
      }
    },
    {
      "cell_type": "markdown",
      "source": [
        "\n",
        "Yulu has recently suffered considerable dips in its revenues. They have contracted a consulting company to understand the factors on which the demand for these shared electric cycles depends.\n",
        "\n",
        "\n",
        "Objective:\n",
        "\n",
        "* To find which variables are significant in predicting the demand for shared electric cycles in the Indian market?\n",
        "* To understand how well those variables describe the electric cycle demands\n",
        "\n",
        "Concept Used:\n",
        "\n",
        "* Bi-Variate Analysis\n",
        "* 2-sample t-test: testing for difference across populations\n",
        "* ANNOVA\n",
        "* Chi-square"
      ],
      "metadata": {
        "id": "Smu9pX8vXbcC"
      }
    },
    {
      "cell_type": "markdown",
      "source": [
        "#### import modules and load data"
      ],
      "metadata": {
        "id": "wies79_qMFaJ"
      }
    },
    {
      "cell_type": "code",
      "execution_count": null,
      "metadata": {
        "id": "BT_lA9COEqhD"
      },
      "outputs": [],
      "source": [
        "import numpy as np\n",
        "import pandas as pd\n",
        "import seaborn as sns\n",
        "import matplotlib.pyplot as plt\n",
        "\n",
        "from scipy.stats import norm, chi2, f # distributions\n",
        "\n",
        "from scipy.stats import ttest_ind, ttest_rel, f_oneway, kruskal # numerical vs categorical\n",
        "from scipy.stats import chisquare, chi2_contingency # categorical features\n",
        "from scipy.stats import pearsonr, spearmanr # numeric vs numeric\n",
        "\n",
        "from scipy.stats import kstest # cdf\n",
        "\n",
        "from statsmodels.distributions.empirical_distribution import ECDF\n",
        "# Empirical CDF"
      ]
    },
    {
      "cell_type": "code",
      "source": [
        "df=pd.read_csv('/content/bike_sharing.txt')"
      ],
      "metadata": {
        "id": "aG3By4biFiMM"
      },
      "execution_count": null,
      "outputs": []
    },
    {
      "cell_type": "code",
      "source": [
        "df"
      ],
      "metadata": {
        "colab": {
          "base_uri": "https://localhost:8080/",
          "height": 423
        },
        "id": "Pqwi4sK4Fuvo",
        "outputId": "c9182ec4-946c-46e1-ccda-5a5bec8a1d88"
      },
      "execution_count": null,
      "outputs": [
        {
          "output_type": "execute_result",
          "data": {
            "text/plain": [
              "                  datetime  season  holiday  workingday  weather   temp  \\\n",
              "0      2011-01-01 00:00:00       1        0           0        1   9.84   \n",
              "1      2011-01-01 01:00:00       1        0           0        1   9.02   \n",
              "2      2011-01-01 02:00:00       1        0           0        1   9.02   \n",
              "3      2011-01-01 03:00:00       1        0           0        1   9.84   \n",
              "4      2011-01-01 04:00:00       1        0           0        1   9.84   \n",
              "...                    ...     ...      ...         ...      ...    ...   \n",
              "10881  2012-12-19 19:00:00       4        0           1        1  15.58   \n",
              "10882  2012-12-19 20:00:00       4        0           1        1  14.76   \n",
              "10883  2012-12-19 21:00:00       4        0           1        1  13.94   \n",
              "10884  2012-12-19 22:00:00       4        0           1        1  13.94   \n",
              "10885  2012-12-19 23:00:00       4        0           1        1  13.12   \n",
              "\n",
              "        atemp  humidity  windspeed  casual  registered  count  \n",
              "0      14.395        81     0.0000       3          13     16  \n",
              "1      13.635        80     0.0000       8          32     40  \n",
              "2      13.635        80     0.0000       5          27     32  \n",
              "3      14.395        75     0.0000       3          10     13  \n",
              "4      14.395        75     0.0000       0           1      1  \n",
              "...       ...       ...        ...     ...         ...    ...  \n",
              "10881  19.695        50    26.0027       7         329    336  \n",
              "10882  17.425        57    15.0013      10         231    241  \n",
              "10883  15.910        61    15.0013       4         164    168  \n",
              "10884  17.425        61     6.0032      12         117    129  \n",
              "10885  16.665        66     8.9981       4          84     88  \n",
              "\n",
              "[10886 rows x 12 columns]"
            ],
            "text/html": [
              "\n",
              "  <div id=\"df-8badb697-c558-495f-a53f-cab1ce09720b\">\n",
              "    <div class=\"colab-df-container\">\n",
              "      <div>\n",
              "<style scoped>\n",
              "    .dataframe tbody tr th:only-of-type {\n",
              "        vertical-align: middle;\n",
              "    }\n",
              "\n",
              "    .dataframe tbody tr th {\n",
              "        vertical-align: top;\n",
              "    }\n",
              "\n",
              "    .dataframe thead th {\n",
              "        text-align: right;\n",
              "    }\n",
              "</style>\n",
              "<table border=\"1\" class=\"dataframe\">\n",
              "  <thead>\n",
              "    <tr style=\"text-align: right;\">\n",
              "      <th></th>\n",
              "      <th>datetime</th>\n",
              "      <th>season</th>\n",
              "      <th>holiday</th>\n",
              "      <th>workingday</th>\n",
              "      <th>weather</th>\n",
              "      <th>temp</th>\n",
              "      <th>atemp</th>\n",
              "      <th>humidity</th>\n",
              "      <th>windspeed</th>\n",
              "      <th>casual</th>\n",
              "      <th>registered</th>\n",
              "      <th>count</th>\n",
              "    </tr>\n",
              "  </thead>\n",
              "  <tbody>\n",
              "    <tr>\n",
              "      <th>0</th>\n",
              "      <td>2011-01-01 00:00:00</td>\n",
              "      <td>1</td>\n",
              "      <td>0</td>\n",
              "      <td>0</td>\n",
              "      <td>1</td>\n",
              "      <td>9.84</td>\n",
              "      <td>14.395</td>\n",
              "      <td>81</td>\n",
              "      <td>0.0000</td>\n",
              "      <td>3</td>\n",
              "      <td>13</td>\n",
              "      <td>16</td>\n",
              "    </tr>\n",
              "    <tr>\n",
              "      <th>1</th>\n",
              "      <td>2011-01-01 01:00:00</td>\n",
              "      <td>1</td>\n",
              "      <td>0</td>\n",
              "      <td>0</td>\n",
              "      <td>1</td>\n",
              "      <td>9.02</td>\n",
              "      <td>13.635</td>\n",
              "      <td>80</td>\n",
              "      <td>0.0000</td>\n",
              "      <td>8</td>\n",
              "      <td>32</td>\n",
              "      <td>40</td>\n",
              "    </tr>\n",
              "    <tr>\n",
              "      <th>2</th>\n",
              "      <td>2011-01-01 02:00:00</td>\n",
              "      <td>1</td>\n",
              "      <td>0</td>\n",
              "      <td>0</td>\n",
              "      <td>1</td>\n",
              "      <td>9.02</td>\n",
              "      <td>13.635</td>\n",
              "      <td>80</td>\n",
              "      <td>0.0000</td>\n",
              "      <td>5</td>\n",
              "      <td>27</td>\n",
              "      <td>32</td>\n",
              "    </tr>\n",
              "    <tr>\n",
              "      <th>3</th>\n",
              "      <td>2011-01-01 03:00:00</td>\n",
              "      <td>1</td>\n",
              "      <td>0</td>\n",
              "      <td>0</td>\n",
              "      <td>1</td>\n",
              "      <td>9.84</td>\n",
              "      <td>14.395</td>\n",
              "      <td>75</td>\n",
              "      <td>0.0000</td>\n",
              "      <td>3</td>\n",
              "      <td>10</td>\n",
              "      <td>13</td>\n",
              "    </tr>\n",
              "    <tr>\n",
              "      <th>4</th>\n",
              "      <td>2011-01-01 04:00:00</td>\n",
              "      <td>1</td>\n",
              "      <td>0</td>\n",
              "      <td>0</td>\n",
              "      <td>1</td>\n",
              "      <td>9.84</td>\n",
              "      <td>14.395</td>\n",
              "      <td>75</td>\n",
              "      <td>0.0000</td>\n",
              "      <td>0</td>\n",
              "      <td>1</td>\n",
              "      <td>1</td>\n",
              "    </tr>\n",
              "    <tr>\n",
              "      <th>...</th>\n",
              "      <td>...</td>\n",
              "      <td>...</td>\n",
              "      <td>...</td>\n",
              "      <td>...</td>\n",
              "      <td>...</td>\n",
              "      <td>...</td>\n",
              "      <td>...</td>\n",
              "      <td>...</td>\n",
              "      <td>...</td>\n",
              "      <td>...</td>\n",
              "      <td>...</td>\n",
              "      <td>...</td>\n",
              "    </tr>\n",
              "    <tr>\n",
              "      <th>10881</th>\n",
              "      <td>2012-12-19 19:00:00</td>\n",
              "      <td>4</td>\n",
              "      <td>0</td>\n",
              "      <td>1</td>\n",
              "      <td>1</td>\n",
              "      <td>15.58</td>\n",
              "      <td>19.695</td>\n",
              "      <td>50</td>\n",
              "      <td>26.0027</td>\n",
              "      <td>7</td>\n",
              "      <td>329</td>\n",
              "      <td>336</td>\n",
              "    </tr>\n",
              "    <tr>\n",
              "      <th>10882</th>\n",
              "      <td>2012-12-19 20:00:00</td>\n",
              "      <td>4</td>\n",
              "      <td>0</td>\n",
              "      <td>1</td>\n",
              "      <td>1</td>\n",
              "      <td>14.76</td>\n",
              "      <td>17.425</td>\n",
              "      <td>57</td>\n",
              "      <td>15.0013</td>\n",
              "      <td>10</td>\n",
              "      <td>231</td>\n",
              "      <td>241</td>\n",
              "    </tr>\n",
              "    <tr>\n",
              "      <th>10883</th>\n",
              "      <td>2012-12-19 21:00:00</td>\n",
              "      <td>4</td>\n",
              "      <td>0</td>\n",
              "      <td>1</td>\n",
              "      <td>1</td>\n",
              "      <td>13.94</td>\n",
              "      <td>15.910</td>\n",
              "      <td>61</td>\n",
              "      <td>15.0013</td>\n",
              "      <td>4</td>\n",
              "      <td>164</td>\n",
              "      <td>168</td>\n",
              "    </tr>\n",
              "    <tr>\n",
              "      <th>10884</th>\n",
              "      <td>2012-12-19 22:00:00</td>\n",
              "      <td>4</td>\n",
              "      <td>0</td>\n",
              "      <td>1</td>\n",
              "      <td>1</td>\n",
              "      <td>13.94</td>\n",
              "      <td>17.425</td>\n",
              "      <td>61</td>\n",
              "      <td>6.0032</td>\n",
              "      <td>12</td>\n",
              "      <td>117</td>\n",
              "      <td>129</td>\n",
              "    </tr>\n",
              "    <tr>\n",
              "      <th>10885</th>\n",
              "      <td>2012-12-19 23:00:00</td>\n",
              "      <td>4</td>\n",
              "      <td>0</td>\n",
              "      <td>1</td>\n",
              "      <td>1</td>\n",
              "      <td>13.12</td>\n",
              "      <td>16.665</td>\n",
              "      <td>66</td>\n",
              "      <td>8.9981</td>\n",
              "      <td>4</td>\n",
              "      <td>84</td>\n",
              "      <td>88</td>\n",
              "    </tr>\n",
              "  </tbody>\n",
              "</table>\n",
              "<p>10886 rows × 12 columns</p>\n",
              "</div>\n",
              "      <button class=\"colab-df-convert\" onclick=\"convertToInteractive('df-8badb697-c558-495f-a53f-cab1ce09720b')\"\n",
              "              title=\"Convert this dataframe to an interactive table.\"\n",
              "              style=\"display:none;\">\n",
              "        \n",
              "  <svg xmlns=\"http://www.w3.org/2000/svg\" height=\"24px\"viewBox=\"0 0 24 24\"\n",
              "       width=\"24px\">\n",
              "    <path d=\"M0 0h24v24H0V0z\" fill=\"none\"/>\n",
              "    <path d=\"M18.56 5.44l.94 2.06.94-2.06 2.06-.94-2.06-.94-.94-2.06-.94 2.06-2.06.94zm-11 1L8.5 8.5l.94-2.06 2.06-.94-2.06-.94L8.5 2.5l-.94 2.06-2.06.94zm10 10l.94 2.06.94-2.06 2.06-.94-2.06-.94-.94-2.06-.94 2.06-2.06.94z\"/><path d=\"M17.41 7.96l-1.37-1.37c-.4-.4-.92-.59-1.43-.59-.52 0-1.04.2-1.43.59L10.3 9.45l-7.72 7.72c-.78.78-.78 2.05 0 2.83L4 21.41c.39.39.9.59 1.41.59.51 0 1.02-.2 1.41-.59l7.78-7.78 2.81-2.81c.8-.78.8-2.07 0-2.86zM5.41 20L4 18.59l7.72-7.72 1.47 1.35L5.41 20z\"/>\n",
              "  </svg>\n",
              "      </button>\n",
              "      \n",
              "  <style>\n",
              "    .colab-df-container {\n",
              "      display:flex;\n",
              "      flex-wrap:wrap;\n",
              "      gap: 12px;\n",
              "    }\n",
              "\n",
              "    .colab-df-convert {\n",
              "      background-color: #E8F0FE;\n",
              "      border: none;\n",
              "      border-radius: 50%;\n",
              "      cursor: pointer;\n",
              "      display: none;\n",
              "      fill: #1967D2;\n",
              "      height: 32px;\n",
              "      padding: 0 0 0 0;\n",
              "      width: 32px;\n",
              "    }\n",
              "\n",
              "    .colab-df-convert:hover {\n",
              "      background-color: #E2EBFA;\n",
              "      box-shadow: 0px 1px 2px rgba(60, 64, 67, 0.3), 0px 1px 3px 1px rgba(60, 64, 67, 0.15);\n",
              "      fill: #174EA6;\n",
              "    }\n",
              "\n",
              "    [theme=dark] .colab-df-convert {\n",
              "      background-color: #3B4455;\n",
              "      fill: #D2E3FC;\n",
              "    }\n",
              "\n",
              "    [theme=dark] .colab-df-convert:hover {\n",
              "      background-color: #434B5C;\n",
              "      box-shadow: 0px 1px 3px 1px rgba(0, 0, 0, 0.15);\n",
              "      filter: drop-shadow(0px 1px 2px rgba(0, 0, 0, 0.3));\n",
              "      fill: #FFFFFF;\n",
              "    }\n",
              "  </style>\n",
              "\n",
              "      <script>\n",
              "        const buttonEl =\n",
              "          document.querySelector('#df-8badb697-c558-495f-a53f-cab1ce09720b button.colab-df-convert');\n",
              "        buttonEl.style.display =\n",
              "          google.colab.kernel.accessAllowed ? 'block' : 'none';\n",
              "\n",
              "        async function convertToInteractive(key) {\n",
              "          const element = document.querySelector('#df-8badb697-c558-495f-a53f-cab1ce09720b');\n",
              "          const dataTable =\n",
              "            await google.colab.kernel.invokeFunction('convertToInteractive',\n",
              "                                                     [key], {});\n",
              "          if (!dataTable) return;\n",
              "\n",
              "          const docLinkHtml = 'Like what you see? Visit the ' +\n",
              "            '<a target=\"_blank\" href=https://colab.research.google.com/notebooks/data_table.ipynb>data table notebook</a>'\n",
              "            + ' to learn more about interactive tables.';\n",
              "          element.innerHTML = '';\n",
              "          dataTable['output_type'] = 'display_data';\n",
              "          await google.colab.output.renderOutput(dataTable, element);\n",
              "          const docLink = document.createElement('div');\n",
              "          docLink.innerHTML = docLinkHtml;\n",
              "          element.appendChild(docLink);\n",
              "        }\n",
              "      </script>\n",
              "    </div>\n",
              "  </div>\n",
              "  "
            ]
          },
          "metadata": {},
          "execution_count": 8
        }
      ]
    },
    {
      "cell_type": "code",
      "source": [
        "df.info()"
      ],
      "metadata": {
        "colab": {
          "base_uri": "https://localhost:8080/"
        },
        "id": "IM42ybYcF6Mb",
        "outputId": "f074bb6a-abc6-491a-e36c-9da0bfaa5455"
      },
      "execution_count": null,
      "outputs": [
        {
          "output_type": "stream",
          "name": "stdout",
          "text": [
            "<class 'pandas.core.frame.DataFrame'>\n",
            "RangeIndex: 10886 entries, 0 to 10885\n",
            "Data columns (total 12 columns):\n",
            " #   Column      Non-Null Count  Dtype  \n",
            "---  ------      --------------  -----  \n",
            " 0   datetime    10886 non-null  object \n",
            " 1   season      10886 non-null  int64  \n",
            " 2   holiday     10886 non-null  int64  \n",
            " 3   workingday  10886 non-null  int64  \n",
            " 4   weather     10886 non-null  int64  \n",
            " 5   temp        10886 non-null  float64\n",
            " 6   atemp       10886 non-null  float64\n",
            " 7   humidity    10886 non-null  int64  \n",
            " 8   windspeed   10886 non-null  float64\n",
            " 9   casual      10886 non-null  int64  \n",
            " 10  registered  10886 non-null  int64  \n",
            " 11  count       10886 non-null  int64  \n",
            "dtypes: float64(3), int64(8), object(1)\n",
            "memory usage: 1020.7+ KB\n"
          ]
        }
      ]
    },
    {
      "cell_type": "markdown",
      "source": [
        "#### Basic data exploration"
      ],
      "metadata": {
        "id": "BD4zH6f2MDcF"
      }
    },
    {
      "cell_type": "code",
      "source": [
        "df.shape\n",
        "# 10886 rows, 12 columns"
      ],
      "metadata": {
        "colab": {
          "base_uri": "https://localhost:8080/"
        },
        "id": "VgFdmceGF2y_",
        "outputId": "86870f93-e8a1-4a3b-e157-7bac50e04990"
      },
      "execution_count": null,
      "outputs": [
        {
          "output_type": "execute_result",
          "data": {
            "text/plain": [
              "(10886, 12)"
            ]
          },
          "metadata": {},
          "execution_count": 10
        }
      ]
    },
    {
      "cell_type": "code",
      "source": [
        "df.isna().sum()\n",
        "# No missing value"
      ],
      "metadata": {
        "colab": {
          "base_uri": "https://localhost:8080/"
        },
        "id": "KZTlr3AqGNKb",
        "outputId": "027bd386-288a-4590-a337-ba89935e4f73"
      },
      "execution_count": null,
      "outputs": [
        {
          "output_type": "execute_result",
          "data": {
            "text/plain": [
              "datetime      0\n",
              "season        0\n",
              "holiday       0\n",
              "workingday    0\n",
              "weather       0\n",
              "temp          0\n",
              "atemp         0\n",
              "humidity      0\n",
              "windspeed     0\n",
              "casual        0\n",
              "registered    0\n",
              "count         0\n",
              "dtype: int64"
            ]
          },
          "metadata": {},
          "execution_count": 11
        }
      ]
    },
    {
      "cell_type": "code",
      "source": [
        "df.dtypes\n",
        "# checking datatype of columns"
      ],
      "metadata": {
        "colab": {
          "base_uri": "https://localhost:8080/"
        },
        "id": "wrPzrzTkGGwZ",
        "outputId": "4859ff7d-c90d-4d19-96bb-7f4d341fc788"
      },
      "execution_count": null,
      "outputs": [
        {
          "output_type": "execute_result",
          "data": {
            "text/plain": [
              "datetime       object\n",
              "season          int64\n",
              "holiday         int64\n",
              "workingday      int64\n",
              "weather         int64\n",
              "temp          float64\n",
              "atemp         float64\n",
              "humidity        int64\n",
              "windspeed     float64\n",
              "casual          int64\n",
              "registered      int64\n",
              "count           int64\n",
              "dtype: object"
            ]
          },
          "metadata": {},
          "execution_count": 12
        }
      ]
    },
    {
      "cell_type": "code",
      "source": [
        "df.nunique()\n",
        "# few int columns have very less unique values, we will convert them to object"
      ],
      "metadata": {
        "colab": {
          "base_uri": "https://localhost:8080/"
        },
        "id": "qKGW0toxGX9W",
        "outputId": "8776033a-9a89-4d63-8e5e-c3b068e58185"
      },
      "execution_count": null,
      "outputs": [
        {
          "output_type": "execute_result",
          "data": {
            "text/plain": [
              "datetime      10886\n",
              "season            4\n",
              "holiday           2\n",
              "workingday        2\n",
              "weather           4\n",
              "temp             49\n",
              "atemp            60\n",
              "humidity         89\n",
              "windspeed        28\n",
              "casual          309\n",
              "registered      731\n",
              "count           822\n",
              "dtype: int64"
            ]
          },
          "metadata": {},
          "execution_count": 13
        }
      ]
    },
    {
      "cell_type": "code",
      "source": [
        "# Drop unnecessary columns\n",
        "df.drop('datetime',axis=1, inplace=True )"
      ],
      "metadata": {
        "id": "q6tIvoP0HH7s"
      },
      "execution_count": null,
      "outputs": []
    },
    {
      "cell_type": "code",
      "source": [
        "columns=['season','holiday','workingday','weather']\n",
        "df[columns] = df[columns].astype('object')"
      ],
      "metadata": {
        "id": "sqIzY7zPJ-Xn"
      },
      "execution_count": null,
      "outputs": []
    },
    {
      "cell_type": "code",
      "source": [
        "df.dtypes"
      ],
      "metadata": {
        "colab": {
          "base_uri": "https://localhost:8080/"
        },
        "id": "kveSZ66wKx6U",
        "outputId": "d467c506-5353-4e4d-e063-33f22a8d0c93"
      },
      "execution_count": null,
      "outputs": [
        {
          "output_type": "execute_result",
          "data": {
            "text/plain": [
              "season         object\n",
              "holiday        object\n",
              "workingday     object\n",
              "weather        object\n",
              "temp          float64\n",
              "atemp         float64\n",
              "humidity        int64\n",
              "windspeed     float64\n",
              "casual          int64\n",
              "registered      int64\n",
              "count           int64\n",
              "dtype: object"
            ]
          },
          "metadata": {},
          "execution_count": 16
        }
      ]
    },
    {
      "cell_type": "code",
      "source": [
        "## separeate categorical and numeric features.\n",
        "# catgeorical and numerical columns\n",
        "cat_cols = df.dtypes =='object'\n",
        "cat_cols = list(cat_cols[cat_cols].index)\n",
        "cat_cols"
      ],
      "metadata": {
        "colab": {
          "base_uri": "https://localhost:8080/"
        },
        "id": "awxOjUOcLFfS",
        "outputId": "f4a4c2c5-9ee9-46a6-874a-c19c703be374"
      },
      "execution_count": null,
      "outputs": [
        {
          "output_type": "execute_result",
          "data": {
            "text/plain": [
              "['season', 'holiday', 'workingday', 'weather']"
            ]
          },
          "metadata": {},
          "execution_count": 17
        }
      ]
    },
    {
      "cell_type": "code",
      "source": [
        "num_cols = df.dtypes !='object'\n",
        "num_cols = list(num_cols[num_cols].index)\n",
        "num_cols"
      ],
      "metadata": {
        "colab": {
          "base_uri": "https://localhost:8080/"
        },
        "id": "3tIAtG2cLT1g",
        "outputId": "84ed543d-a52d-45a2-e89b-27ccf5431ed8"
      },
      "execution_count": null,
      "outputs": [
        {
          "output_type": "execute_result",
          "data": {
            "text/plain": [
              "['temp', 'atemp', 'humidity', 'windspeed', 'casual', 'registered', 'count']"
            ]
          },
          "metadata": {},
          "execution_count": 18
        }
      ]
    },
    {
      "cell_type": "markdown",
      "source": [
        "### Univariate Data Analysis"
      ],
      "metadata": {
        "id": "kfnwMKJ_L0Ta"
      }
    },
    {
      "cell_type": "code",
      "source": [
        "#Checking how the data is spread on basis of distinct users (customer analysis)\n",
        "df2=df.copy()\n",
        "cat_count = df2[cat_cols].melt().groupby(['variable', 'value'])[['value']].size().reset_index(name='counts')\n",
        "s = df2[cat_cols].melt().variable.value_counts()\n",
        "cat_count['Percent'] = cat_count['counts'].div(cat_count['variable'].map(s)).mul(100).round().astype('int')\n",
        "cat_count.groupby(['variable', 'value']).first()\n",
        "\n",
        "# only 1 electric cycles rented in extreame weather 4. (outlier)\n",
        "# only 3% days are holidays."
      ],
      "metadata": {
        "colab": {
          "base_uri": "https://localhost:8080/",
          "height": 457
        },
        "id": "6Xv8dJ4_N4U9",
        "outputId": "b4904757-5692-4532-f35f-19112f96d003"
      },
      "execution_count": null,
      "outputs": [
        {
          "output_type": "execute_result",
          "data": {
            "text/plain": [
              "                  counts  Percent\n",
              "variable   value                 \n",
              "holiday    0       10575       97\n",
              "           1         311        3\n",
              "season     1        2686       25\n",
              "           2        2733       25\n",
              "           3        2733       25\n",
              "           4        2734       25\n",
              "weather    1        7192       66\n",
              "           2        2834       26\n",
              "           3         859        8\n",
              "           4           1        0\n",
              "workingday 0        3474       32\n",
              "           1        7412       68"
            ],
            "text/html": [
              "\n",
              "  <div id=\"df-f16c0aac-dde0-427d-bb68-82bb07c3616f\">\n",
              "    <div class=\"colab-df-container\">\n",
              "      <div>\n",
              "<style scoped>\n",
              "    .dataframe tbody tr th:only-of-type {\n",
              "        vertical-align: middle;\n",
              "    }\n",
              "\n",
              "    .dataframe tbody tr th {\n",
              "        vertical-align: top;\n",
              "    }\n",
              "\n",
              "    .dataframe thead th {\n",
              "        text-align: right;\n",
              "    }\n",
              "</style>\n",
              "<table border=\"1\" class=\"dataframe\">\n",
              "  <thead>\n",
              "    <tr style=\"text-align: right;\">\n",
              "      <th></th>\n",
              "      <th></th>\n",
              "      <th>counts</th>\n",
              "      <th>Percent</th>\n",
              "    </tr>\n",
              "    <tr>\n",
              "      <th>variable</th>\n",
              "      <th>value</th>\n",
              "      <th></th>\n",
              "      <th></th>\n",
              "    </tr>\n",
              "  </thead>\n",
              "  <tbody>\n",
              "    <tr>\n",
              "      <th rowspan=\"2\" valign=\"top\">holiday</th>\n",
              "      <th>0</th>\n",
              "      <td>10575</td>\n",
              "      <td>97</td>\n",
              "    </tr>\n",
              "    <tr>\n",
              "      <th>1</th>\n",
              "      <td>311</td>\n",
              "      <td>3</td>\n",
              "    </tr>\n",
              "    <tr>\n",
              "      <th rowspan=\"4\" valign=\"top\">season</th>\n",
              "      <th>1</th>\n",
              "      <td>2686</td>\n",
              "      <td>25</td>\n",
              "    </tr>\n",
              "    <tr>\n",
              "      <th>2</th>\n",
              "      <td>2733</td>\n",
              "      <td>25</td>\n",
              "    </tr>\n",
              "    <tr>\n",
              "      <th>3</th>\n",
              "      <td>2733</td>\n",
              "      <td>25</td>\n",
              "    </tr>\n",
              "    <tr>\n",
              "      <th>4</th>\n",
              "      <td>2734</td>\n",
              "      <td>25</td>\n",
              "    </tr>\n",
              "    <tr>\n",
              "      <th rowspan=\"4\" valign=\"top\">weather</th>\n",
              "      <th>1</th>\n",
              "      <td>7192</td>\n",
              "      <td>66</td>\n",
              "    </tr>\n",
              "    <tr>\n",
              "      <th>2</th>\n",
              "      <td>2834</td>\n",
              "      <td>26</td>\n",
              "    </tr>\n",
              "    <tr>\n",
              "      <th>3</th>\n",
              "      <td>859</td>\n",
              "      <td>8</td>\n",
              "    </tr>\n",
              "    <tr>\n",
              "      <th>4</th>\n",
              "      <td>1</td>\n",
              "      <td>0</td>\n",
              "    </tr>\n",
              "    <tr>\n",
              "      <th rowspan=\"2\" valign=\"top\">workingday</th>\n",
              "      <th>0</th>\n",
              "      <td>3474</td>\n",
              "      <td>32</td>\n",
              "    </tr>\n",
              "    <tr>\n",
              "      <th>1</th>\n",
              "      <td>7412</td>\n",
              "      <td>68</td>\n",
              "    </tr>\n",
              "  </tbody>\n",
              "</table>\n",
              "</div>\n",
              "      <button class=\"colab-df-convert\" onclick=\"convertToInteractive('df-f16c0aac-dde0-427d-bb68-82bb07c3616f')\"\n",
              "              title=\"Convert this dataframe to an interactive table.\"\n",
              "              style=\"display:none;\">\n",
              "        \n",
              "  <svg xmlns=\"http://www.w3.org/2000/svg\" height=\"24px\"viewBox=\"0 0 24 24\"\n",
              "       width=\"24px\">\n",
              "    <path d=\"M0 0h24v24H0V0z\" fill=\"none\"/>\n",
              "    <path d=\"M18.56 5.44l.94 2.06.94-2.06 2.06-.94-2.06-.94-.94-2.06-.94 2.06-2.06.94zm-11 1L8.5 8.5l.94-2.06 2.06-.94-2.06-.94L8.5 2.5l-.94 2.06-2.06.94zm10 10l.94 2.06.94-2.06 2.06-.94-2.06-.94-.94-2.06-.94 2.06-2.06.94z\"/><path d=\"M17.41 7.96l-1.37-1.37c-.4-.4-.92-.59-1.43-.59-.52 0-1.04.2-1.43.59L10.3 9.45l-7.72 7.72c-.78.78-.78 2.05 0 2.83L4 21.41c.39.39.9.59 1.41.59.51 0 1.02-.2 1.41-.59l7.78-7.78 2.81-2.81c.8-.78.8-2.07 0-2.86zM5.41 20L4 18.59l7.72-7.72 1.47 1.35L5.41 20z\"/>\n",
              "  </svg>\n",
              "      </button>\n",
              "      \n",
              "  <style>\n",
              "    .colab-df-container {\n",
              "      display:flex;\n",
              "      flex-wrap:wrap;\n",
              "      gap: 12px;\n",
              "    }\n",
              "\n",
              "    .colab-df-convert {\n",
              "      background-color: #E8F0FE;\n",
              "      border: none;\n",
              "      border-radius: 50%;\n",
              "      cursor: pointer;\n",
              "      display: none;\n",
              "      fill: #1967D2;\n",
              "      height: 32px;\n",
              "      padding: 0 0 0 0;\n",
              "      width: 32px;\n",
              "    }\n",
              "\n",
              "    .colab-df-convert:hover {\n",
              "      background-color: #E2EBFA;\n",
              "      box-shadow: 0px 1px 2px rgba(60, 64, 67, 0.3), 0px 1px 3px 1px rgba(60, 64, 67, 0.15);\n",
              "      fill: #174EA6;\n",
              "    }\n",
              "\n",
              "    [theme=dark] .colab-df-convert {\n",
              "      background-color: #3B4455;\n",
              "      fill: #D2E3FC;\n",
              "    }\n",
              "\n",
              "    [theme=dark] .colab-df-convert:hover {\n",
              "      background-color: #434B5C;\n",
              "      box-shadow: 0px 1px 3px 1px rgba(0, 0, 0, 0.15);\n",
              "      filter: drop-shadow(0px 1px 2px rgba(0, 0, 0, 0.3));\n",
              "      fill: #FFFFFF;\n",
              "    }\n",
              "  </style>\n",
              "\n",
              "      <script>\n",
              "        const buttonEl =\n",
              "          document.querySelector('#df-f16c0aac-dde0-427d-bb68-82bb07c3616f button.colab-df-convert');\n",
              "        buttonEl.style.display =\n",
              "          google.colab.kernel.accessAllowed ? 'block' : 'none';\n",
              "\n",
              "        async function convertToInteractive(key) {\n",
              "          const element = document.querySelector('#df-f16c0aac-dde0-427d-bb68-82bb07c3616f');\n",
              "          const dataTable =\n",
              "            await google.colab.kernel.invokeFunction('convertToInteractive',\n",
              "                                                     [key], {});\n",
              "          if (!dataTable) return;\n",
              "\n",
              "          const docLinkHtml = 'Like what you see? Visit the ' +\n",
              "            '<a target=\"_blank\" href=https://colab.research.google.com/notebooks/data_table.ipynb>data table notebook</a>'\n",
              "            + ' to learn more about interactive tables.';\n",
              "          element.innerHTML = '';\n",
              "          dataTable['output_type'] = 'display_data';\n",
              "          await google.colab.output.renderOutput(dataTable, element);\n",
              "          const docLink = document.createElement('div');\n",
              "          docLink.innerHTML = docLinkHtml;\n",
              "          element.appendChild(docLink);\n",
              "        }\n",
              "      </script>\n",
              "    </div>\n",
              "  </div>\n",
              "  "
            ]
          },
          "metadata": {},
          "execution_count": 19
        }
      ]
    },
    {
      "cell_type": "code",
      "source": [
        "df[df['weather']==4]\n",
        "\n",
        "# Only one row where weather is 4, so will replace it's value with 3."
      ],
      "metadata": {
        "colab": {
          "base_uri": "https://localhost:8080/",
          "height": 80
        },
        "id": "1KDC8Sk6uLrc",
        "outputId": "0d211893-c770-4347-b319-55722fa45b5e"
      },
      "execution_count": null,
      "outputs": [
        {
          "output_type": "execute_result",
          "data": {
            "text/plain": [
              "     season holiday workingday weather  temp   atemp  humidity  windspeed  \\\n",
              "5631      1       0          1       4   8.2  11.365        86     6.0032   \n",
              "\n",
              "      casual  registered  count  \n",
              "5631       6         158    164  "
            ],
            "text/html": [
              "\n",
              "  <div id=\"df-799ef874-f581-471c-b75e-1b45dda49f69\">\n",
              "    <div class=\"colab-df-container\">\n",
              "      <div>\n",
              "<style scoped>\n",
              "    .dataframe tbody tr th:only-of-type {\n",
              "        vertical-align: middle;\n",
              "    }\n",
              "\n",
              "    .dataframe tbody tr th {\n",
              "        vertical-align: top;\n",
              "    }\n",
              "\n",
              "    .dataframe thead th {\n",
              "        text-align: right;\n",
              "    }\n",
              "</style>\n",
              "<table border=\"1\" class=\"dataframe\">\n",
              "  <thead>\n",
              "    <tr style=\"text-align: right;\">\n",
              "      <th></th>\n",
              "      <th>season</th>\n",
              "      <th>holiday</th>\n",
              "      <th>workingday</th>\n",
              "      <th>weather</th>\n",
              "      <th>temp</th>\n",
              "      <th>atemp</th>\n",
              "      <th>humidity</th>\n",
              "      <th>windspeed</th>\n",
              "      <th>casual</th>\n",
              "      <th>registered</th>\n",
              "      <th>count</th>\n",
              "    </tr>\n",
              "  </thead>\n",
              "  <tbody>\n",
              "    <tr>\n",
              "      <th>5631</th>\n",
              "      <td>1</td>\n",
              "      <td>0</td>\n",
              "      <td>1</td>\n",
              "      <td>4</td>\n",
              "      <td>8.2</td>\n",
              "      <td>11.365</td>\n",
              "      <td>86</td>\n",
              "      <td>6.0032</td>\n",
              "      <td>6</td>\n",
              "      <td>158</td>\n",
              "      <td>164</td>\n",
              "    </tr>\n",
              "  </tbody>\n",
              "</table>\n",
              "</div>\n",
              "      <button class=\"colab-df-convert\" onclick=\"convertToInteractive('df-799ef874-f581-471c-b75e-1b45dda49f69')\"\n",
              "              title=\"Convert this dataframe to an interactive table.\"\n",
              "              style=\"display:none;\">\n",
              "        \n",
              "  <svg xmlns=\"http://www.w3.org/2000/svg\" height=\"24px\"viewBox=\"0 0 24 24\"\n",
              "       width=\"24px\">\n",
              "    <path d=\"M0 0h24v24H0V0z\" fill=\"none\"/>\n",
              "    <path d=\"M18.56 5.44l.94 2.06.94-2.06 2.06-.94-2.06-.94-.94-2.06-.94 2.06-2.06.94zm-11 1L8.5 8.5l.94-2.06 2.06-.94-2.06-.94L8.5 2.5l-.94 2.06-2.06.94zm10 10l.94 2.06.94-2.06 2.06-.94-2.06-.94-.94-2.06-.94 2.06-2.06.94z\"/><path d=\"M17.41 7.96l-1.37-1.37c-.4-.4-.92-.59-1.43-.59-.52 0-1.04.2-1.43.59L10.3 9.45l-7.72 7.72c-.78.78-.78 2.05 0 2.83L4 21.41c.39.39.9.59 1.41.59.51 0 1.02-.2 1.41-.59l7.78-7.78 2.81-2.81c.8-.78.8-2.07 0-2.86zM5.41 20L4 18.59l7.72-7.72 1.47 1.35L5.41 20z\"/>\n",
              "  </svg>\n",
              "      </button>\n",
              "      \n",
              "  <style>\n",
              "    .colab-df-container {\n",
              "      display:flex;\n",
              "      flex-wrap:wrap;\n",
              "      gap: 12px;\n",
              "    }\n",
              "\n",
              "    .colab-df-convert {\n",
              "      background-color: #E8F0FE;\n",
              "      border: none;\n",
              "      border-radius: 50%;\n",
              "      cursor: pointer;\n",
              "      display: none;\n",
              "      fill: #1967D2;\n",
              "      height: 32px;\n",
              "      padding: 0 0 0 0;\n",
              "      width: 32px;\n",
              "    }\n",
              "\n",
              "    .colab-df-convert:hover {\n",
              "      background-color: #E2EBFA;\n",
              "      box-shadow: 0px 1px 2px rgba(60, 64, 67, 0.3), 0px 1px 3px 1px rgba(60, 64, 67, 0.15);\n",
              "      fill: #174EA6;\n",
              "    }\n",
              "\n",
              "    [theme=dark] .colab-df-convert {\n",
              "      background-color: #3B4455;\n",
              "      fill: #D2E3FC;\n",
              "    }\n",
              "\n",
              "    [theme=dark] .colab-df-convert:hover {\n",
              "      background-color: #434B5C;\n",
              "      box-shadow: 0px 1px 3px 1px rgba(0, 0, 0, 0.15);\n",
              "      filter: drop-shadow(0px 1px 2px rgba(0, 0, 0, 0.3));\n",
              "      fill: #FFFFFF;\n",
              "    }\n",
              "  </style>\n",
              "\n",
              "      <script>\n",
              "        const buttonEl =\n",
              "          document.querySelector('#df-799ef874-f581-471c-b75e-1b45dda49f69 button.colab-df-convert');\n",
              "        buttonEl.style.display =\n",
              "          google.colab.kernel.accessAllowed ? 'block' : 'none';\n",
              "\n",
              "        async function convertToInteractive(key) {\n",
              "          const element = document.querySelector('#df-799ef874-f581-471c-b75e-1b45dda49f69');\n",
              "          const dataTable =\n",
              "            await google.colab.kernel.invokeFunction('convertToInteractive',\n",
              "                                                     [key], {});\n",
              "          if (!dataTable) return;\n",
              "\n",
              "          const docLinkHtml = 'Like what you see? Visit the ' +\n",
              "            '<a target=\"_blank\" href=https://colab.research.google.com/notebooks/data_table.ipynb>data table notebook</a>'\n",
              "            + ' to learn more about interactive tables.';\n",
              "          element.innerHTML = '';\n",
              "          dataTable['output_type'] = 'display_data';\n",
              "          await google.colab.output.renderOutput(dataTable, element);\n",
              "          const docLink = document.createElement('div');\n",
              "          docLink.innerHTML = docLinkHtml;\n",
              "          element.appendChild(docLink);\n",
              "        }\n",
              "      </script>\n",
              "    </div>\n",
              "  </div>\n",
              "  "
            ]
          },
          "metadata": {},
          "execution_count": 20
        }
      ]
    },
    {
      "cell_type": "code",
      "source": [
        "df['weather'].replace(4,3,inplace=True)\n",
        "df['weather'].value_counts()"
      ],
      "metadata": {
        "colab": {
          "base_uri": "https://localhost:8080/"
        },
        "id": "KhEDEi10vsnT",
        "outputId": "8be15e4a-d2b0-4e0e-acf9-13ced160ca5c"
      },
      "execution_count": null,
      "outputs": [
        {
          "output_type": "execute_result",
          "data": {
            "text/plain": [
              "1    7192\n",
              "2    2834\n",
              "3     860\n",
              "Name: weather, dtype: int64"
            ]
          },
          "metadata": {},
          "execution_count": 21
        }
      ]
    },
    {
      "cell_type": "code",
      "source": [
        "plt.figure(figsize = [22,5])\n",
        "cat_cols = ['holiday','workingday','weather','season']\n",
        "for i in range (len(cat_cols)):\n",
        "  plt.subplot(1, 4, i+1)\n",
        "  sns.countplot(data=df, x=cat_cols[i])\n",
        "\n",
        "# Weather 1 is most liklihood weather."
      ],
      "metadata": {
        "colab": {
          "base_uri": "https://localhost:8080/",
          "height": 262
        },
        "id": "fNaqpik1OtuS",
        "outputId": "7f6594d1-bfa6-4921-9c3f-edeb69cad10c"
      },
      "execution_count": null,
      "outputs": [
        {
          "output_type": "display_data",
          "data": {
            "text/plain": [
              "<Figure size 1584x360 with 4 Axes>"
            ],
            "image/png": "[encoded data removed]"
          },
          "metadata": {
            "needs_background": "light"
          }
        }
      ]
    },
    {
      "cell_type": "code",
      "source": [
        "df.describe(include='object')"
      ],
      "metadata": {
        "colab": {
          "base_uri": "https://localhost:8080/",
          "height": 174
        },
        "id": "7oLT73jHeeVA",
        "outputId": "c3e51f1c-ab19-473d-e095-d4d12c8627d1"
      },
      "execution_count": null,
      "outputs": [
        {
          "output_type": "execute_result",
          "data": {
            "text/plain": [
              "        season  holiday  workingday\n",
              "count    10886    10886       10886\n",
              "unique       4        2           2\n",
              "top          4        0           1\n",
              "freq      2734    10575        7412"
            ],
            "text/html": [
              "\n",
              "  <div id=\"df-7bedb0a4-9267-4915-8662-e4579df3c11f\">\n",
              "    <div class=\"colab-df-container\">\n",
              "      <div>\n",
              "<style scoped>\n",
              "    .dataframe tbody tr th:only-of-type {\n",
              "        vertical-align: middle;\n",
              "    }\n",
              "\n",
              "    .dataframe tbody tr th {\n",
              "        vertical-align: top;\n",
              "    }\n",
              "\n",
              "    .dataframe thead th {\n",
              "        text-align: right;\n",
              "    }\n",
              "</style>\n",
              "<table border=\"1\" class=\"dataframe\">\n",
              "  <thead>\n",
              "    <tr style=\"text-align: right;\">\n",
              "      <th></th>\n",
              "      <th>season</th>\n",
              "      <th>holiday</th>\n",
              "      <th>workingday</th>\n",
              "    </tr>\n",
              "  </thead>\n",
              "  <tbody>\n",
              "    <tr>\n",
              "      <th>count</th>\n",
              "      <td>10886</td>\n",
              "      <td>10886</td>\n",
              "      <td>10886</td>\n",
              "    </tr>\n",
              "    <tr>\n",
              "      <th>unique</th>\n",
              "      <td>4</td>\n",
              "      <td>2</td>\n",
              "      <td>2</td>\n",
              "    </tr>\n",
              "    <tr>\n",
              "      <th>top</th>\n",
              "      <td>4</td>\n",
              "      <td>0</td>\n",
              "      <td>1</td>\n",
              "    </tr>\n",
              "    <tr>\n",
              "      <th>freq</th>\n",
              "      <td>2734</td>\n",
              "      <td>10575</td>\n",
              "      <td>7412</td>\n",
              "    </tr>\n",
              "  </tbody>\n",
              "</table>\n",
              "</div>\n",
              "      <button class=\"colab-df-convert\" onclick=\"convertToInteractive('df-7bedb0a4-9267-4915-8662-e4579df3c11f')\"\n",
              "              title=\"Convert this dataframe to an interactive table.\"\n",
              "              style=\"display:none;\">\n",
              "        \n",
              "  <svg xmlns=\"http://www.w3.org/2000/svg\" height=\"24px\"viewBox=\"0 0 24 24\"\n",
              "       width=\"24px\">\n",
              "    <path d=\"M0 0h24v24H0V0z\" fill=\"none\"/>\n",
              "    <path d=\"M18.56 5.44l.94 2.06.94-2.06 2.06-.94-2.06-.94-.94-2.06-.94 2.06-2.06.94zm-11 1L8.5 8.5l.94-2.06 2.06-.94-2.06-.94L8.5 2.5l-.94 2.06-2.06.94zm10 10l.94 2.06.94-2.06 2.06-.94-2.06-.94-.94-2.06-.94 2.06-2.06.94z\"/><path d=\"M17.41 7.96l-1.37-1.37c-.4-.4-.92-.59-1.43-.59-.52 0-1.04.2-1.43.59L10.3 9.45l-7.72 7.72c-.78.78-.78 2.05 0 2.83L4 21.41c.39.39.9.59 1.41.59.51 0 1.02-.2 1.41-.59l7.78-7.78 2.81-2.81c.8-.78.8-2.07 0-2.86zM5.41 20L4 18.59l7.72-7.72 1.47 1.35L5.41 20z\"/>\n",
              "  </svg>\n",
              "      </button>\n",
              "      \n",
              "  <style>\n",
              "    .colab-df-container {\n",
              "      display:flex;\n",
              "      flex-wrap:wrap;\n",
              "      gap: 12px;\n",
              "    }\n",
              "\n",
              "    .colab-df-convert {\n",
              "      background-color: #E8F0FE;\n",
              "      border: none;\n",
              "      border-radius: 50%;\n",
              "      cursor: pointer;\n",
              "      display: none;\n",
              "      fill: #1967D2;\n",
              "      height: 32px;\n",
              "      padding: 0 0 0 0;\n",
              "      width: 32px;\n",
              "    }\n",
              "\n",
              "    .colab-df-convert:hover {\n",
              "      background-color: #E2EBFA;\n",
              "      box-shadow: 0px 1px 2px rgba(60, 64, 67, 0.3), 0px 1px 3px 1px rgba(60, 64, 67, 0.15);\n",
              "      fill: #174EA6;\n",
              "    }\n",
              "\n",
              "    [theme=dark] .colab-df-convert {\n",
              "      background-color: #3B4455;\n",
              "      fill: #D2E3FC;\n",
              "    }\n",
              "\n",
              "    [theme=dark] .colab-df-convert:hover {\n",
              "      background-color: #434B5C;\n",
              "      box-shadow: 0px 1px 3px 1px rgba(0, 0, 0, 0.15);\n",
              "      filter: drop-shadow(0px 1px 2px rgba(0, 0, 0, 0.3));\n",
              "      fill: #FFFFFF;\n",
              "    }\n",
              "  </style>\n",
              "\n",
              "      <script>\n",
              "        const buttonEl =\n",
              "          document.querySelector('#df-7bedb0a4-9267-4915-8662-e4579df3c11f button.colab-df-convert');\n",
              "        buttonEl.style.display =\n",
              "          google.colab.kernel.accessAllowed ? 'block' : 'none';\n",
              "\n",
              "        async function convertToInteractive(key) {\n",
              "          const element = document.querySelector('#df-7bedb0a4-9267-4915-8662-e4579df3c11f');\n",
              "          const dataTable =\n",
              "            await google.colab.kernel.invokeFunction('convertToInteractive',\n",
              "                                                     [key], {});\n",
              "          if (!dataTable) return;\n",
              "\n",
              "          const docLinkHtml = 'Like what you see? Visit the ' +\n",
              "            '<a target=\"_blank\" href=https://colab.research.google.com/notebooks/data_table.ipynb>data table notebook</a>'\n",
              "            + ' to learn more about interactive tables.';\n",
              "          element.innerHTML = '';\n",
              "          dataTable['output_type'] = 'display_data';\n",
              "          await google.colab.output.renderOutput(dataTable, element);\n",
              "          const docLink = document.createElement('div');\n",
              "          docLink.innerHTML = docLinkHtml;\n",
              "          element.appendChild(docLink);\n",
              "        }\n",
              "      </script>\n",
              "    </div>\n",
              "  </div>\n",
              "  "
            ]
          },
          "metadata": {},
          "execution_count": 23
        }
      ]
    },
    {
      "cell_type": "code",
      "source": [
        "plt.figure(figsize = [22,5])\n",
        "num_cols = ['temp', 'atemp', 'humidity', 'windspeed']\n",
        "for i in range (len(num_cols)):\n",
        "  plt.subplot(1, 4, i+1)\n",
        "  sns.histplot(data=df, x=num_cols[i], kde=True)"
      ],
      "metadata": {
        "colab": {
          "base_uri": "https://localhost:8080/",
          "height": 264
        },
        "id": "1zHKaQusdZyc",
        "outputId": "98232914-f93d-4a5f-9c3e-a57094d06787"
      },
      "execution_count": null,
      "outputs": [
        {
          "output_type": "display_data",
          "data": {
            "text/plain": [
              "<Figure size 1584x360 with 4 Axes>"
            ],
            "image/png": "[encoded data removed]"
          },
          "metadata": {
            "needs_background": "light"
          }
        }
      ]
    },
    {
      "cell_type": "code",
      "source": [
        "for i in (num_cols):\n",
        "  print(i, round(df[i].skew(),1))\n",
        "\n",
        "# windspeed distributioni is right skewed, means it has some outliers in right."
      ],
      "metadata": {
        "colab": {
          "base_uri": "https://localhost:8080/"
        },
        "id": "vXYAMuZ3kUS8",
        "outputId": "ea989791-3276-4802-84f5-00c500059628"
      },
      "execution_count": null,
      "outputs": [
        {
          "output_type": "stream",
          "name": "stdout",
          "text": [
            "temp 0.0\n",
            "atemp -0.1\n",
            "humidity -0.1\n",
            "windspeed 0.6\n"
          ]
        }
      ]
    },
    {
      "cell_type": "code",
      "source": [
        "from scipy.stats import shapiro\n",
        "num_cols = ['temp', 'atemp', 'humidity', 'windspeed']\n",
        "for i in (num_cols):\n",
        "  print(shapiro(df[i]).pvalue)\n",
        "\n",
        "# Since the p-value is less than .05, we reject the null hypothesis. \n",
        "# By shapiro test we can say that the sample data does not come from a normal distribution.\n",
        "# We can use non parametric tests or We can normalize it and then do parametic test.\n",
        "# but We are considering this sample data normally distributed in further analysis. \n",
        "# Because in visual plots we can see that variables are looking fairly normally distributed, \n",
        "# and our analysis is not quite sensitive to output, so we use parametic test directly."
      ],
      "metadata": {
        "colab": {
          "base_uri": "https://localhost:8080/"
        },
        "id": "1rZta4FTbSOO",
        "outputId": "6c9720dd-37ca-41f2-d231-b28a6f35fe23"
      },
      "execution_count": null,
      "outputs": [
        {
          "output_type": "stream",
          "name": "stdout",
          "text": [
            "4.47221826500091e-36\n",
            "3.4538982852050647e-35\n",
            "1.245496990918048e-34\n",
            "0.0\n"
          ]
        },
        {
          "output_type": "stream",
          "name": "stderr",
          "text": [
            "/usr/local/lib/python3.8/dist-packages/scipy/stats/morestats.py:1760: UserWarning: p-value may not be accurate for N > 5000.\n",
            "  warnings.warn(\"p-value may not be accurate for N > 5000.\")\n"
          ]
        }
      ]
    },
    {
      "cell_type": "code",
      "source": [
        "import statsmodels.api as sm\n",
        "import matplotlib.pyplot as plt\n",
        "plt.figure(figsize = [22,5])\n",
        "num_cols = ['temp', 'humidity', 'windspeed']\n",
        "for i in (num_cols):\n",
        "  sm.qqplot(df[i], line ='45')\n",
        "\n",
        "#The data values clearly do not follow the red 45-degree line, \n",
        "# which is an indication that they do not follow a normal distribution."
      ],
      "metadata": {
        "colab": {
          "base_uri": "https://localhost:8080/",
          "height": 821
        },
        "id": "_fgGwfUhdYNf",
        "outputId": "497ad071-511c-40bc-edf1-13c6ba9a6952"
      },
      "execution_count": null,
      "outputs": [
        {
          "output_type": "display_data",
          "data": {
            "text/plain": [
              "<Figure size 1584x360 with 0 Axes>"
            ]
          },
          "metadata": {}
        },
        {
          "output_type": "display_data",
          "data": {
            "text/plain": [
              "<Figure size 432x288 with 1 Axes>"
            ],
            "image/png": "[encoded data removed]"
          },
          "metadata": {
            "needs_background": "light"
          }
        },
        {
          "output_type": "display_data",
          "data": {
            "text/plain": [
              "<Figure size 432x288 with 1 Axes>"
            ],
            "image/png": "[encoded data removed]"
          },
          "metadata": {
            "needs_background": "light"
          }
        },
        {
          "output_type": "display_data",
          "data": {
            "text/plain": [
              "<Figure size 432x288 with 1 Axes>"
            ],
            "image/png": "[encoded data removed]"
          },
          "metadata": {
            "needs_background": "light"
          }
        }
      ]
    },
    {
      "cell_type": "code",
      "source": [
        "from scipy.stats import levene\n",
        "stat, p = levene(df['temp'],df['atemp'], center ='median')\n",
        "p"
      ],
      "metadata": {
        "colab": {
          "base_uri": "https://localhost:8080/"
        },
        "id": "BooqcGaqhWx1",
        "outputId": "6f3d991d-d794-4fb7-8062-171993b612c3"
      },
      "execution_count": null,
      "outputs": [
        {
          "output_type": "execute_result",
          "data": {
            "text/plain": [
              "1.3036286748857844e-16"
            ]
          },
          "metadata": {},
          "execution_count": 28
        }
      ]
    },
    {
      "cell_type": "code",
      "source": [
        "from scipy.stats import levene\n",
        "stat, p = levene(df['temp'],df['atemp'], center ='mean')\n",
        "p"
      ],
      "metadata": {
        "colab": {
          "base_uri": "https://localhost:8080/"
        },
        "id": "fTgyBDbtjNlf",
        "outputId": "f8d6849b-dd93-4d6a-fabe-d0913c7d5d91"
      },
      "execution_count": null,
      "outputs": [
        {
          "output_type": "execute_result",
          "data": {
            "text/plain": [
              "3.23529399853922e-17"
            ]
          },
          "metadata": {},
          "execution_count": 29
        }
      ]
    },
    {
      "cell_type": "code",
      "source": [
        "alpha =0.05\n",
        "# now we pass the groups and center value from the following\n",
        "# ('trimmed mean', 'mean', 'median')\n",
        "w_stats, p_value =levene(df['temp'],df['atemp'], center ='median')\n",
        " \n",
        "if p_value > alpha :\n",
        "  print(\"We do not reject the null hypothesis\")\n",
        "else:\n",
        "  print(\"Reject the Null Hypothesis\")\n",
        "\n",
        "# This means we do have sufficient evidence to say that the variance between temp and atemp is significantly different."
      ],
      "metadata": {
        "colab": {
          "base_uri": "https://localhost:8080/"
        },
        "id": "QarlnbeOhoNT",
        "outputId": "fbb0efb4-e2f5-4977-82b2-36dede73e9fa"
      },
      "execution_count": null,
      "outputs": [
        {
          "output_type": "stream",
          "name": "stdout",
          "text": [
            "Reject the Null Hypothesis\n"
          ]
        }
      ]
    },
    {
      "cell_type": "code",
      "source": [
        "np.percentile(df['temp'],97.5)-np.percentile(df['temp'],2.5)"
      ],
      "metadata": {
        "colab": {
          "base_uri": "https://localhost:8080/"
        },
        "id": "sQ8NJhwwiWhn",
        "outputId": "d3b7c8ff-0fd9-4b76-e974-b81ac714c27e"
      },
      "execution_count": null,
      "outputs": [
        {
          "output_type": "execute_result",
          "data": {
            "text/plain": [
              "27.7775"
            ]
          },
          "metadata": {},
          "execution_count": 31
        }
      ]
    },
    {
      "cell_type": "code",
      "source": [
        "np.percentile(df['atemp'],97.5)-np.percentile(df['atemp'],2.5)"
      ],
      "metadata": {
        "colab": {
          "base_uri": "https://localhost:8080/"
        },
        "id": "5bLeUWeDijIi",
        "outputId": "76af7911-46b0-46ae-94ff-d207741b2f62"
      },
      "execution_count": null,
      "outputs": [
        {
          "output_type": "execute_result",
          "data": {
            "text/plain": [
              "31.06"
            ]
          },
          "metadata": {},
          "execution_count": 32
        }
      ]
    },
    {
      "cell_type": "code",
      "source": [
        "plt.figure(figsize = [22,5])\n",
        "num_cols = ['temp', 'atemp', 'humidity', 'windspeed']\n",
        "for i in range (len(num_cols)):\n",
        "  plt.subplot(1, 4, i+1)\n",
        "  sns.boxplot(data=df, x=num_cols[i])"
      ],
      "metadata": {
        "colab": {
          "base_uri": "https://localhost:8080/",
          "height": 271
        },
        "id": "mH4CoQRgfxnB",
        "outputId": "4edc84cb-69a3-4e23-f407-fdcfa5d9f367"
      },
      "execution_count": null,
      "outputs": [
        {
          "output_type": "display_data",
          "data": {
            "text/plain": [
              "<Figure size 1584x360 with 4 Axes>"
            ],
            "image/png": "[encoded data removed]"
          },
          "metadata": {
            "needs_background": "light"
          }
        }
      ]
    },
    {
      "cell_type": "code",
      "source": [
        "df[num_cols].describe()"
      ],
      "metadata": {
        "colab": {
          "base_uri": "https://localhost:8080/",
          "height": 300
        },
        "id": "LCjFIRJbebxG",
        "outputId": "3a931d9d-f141-482f-ad93-ffa32e120714"
      },
      "execution_count": null,
      "outputs": [
        {
          "output_type": "execute_result",
          "data": {
            "text/plain": [
              "              temp         atemp      humidity     windspeed\n",
              "count  10886.00000  10886.000000  10886.000000  10886.000000\n",
              "mean      20.23086     23.655084     61.886460     12.799395\n",
              "std        7.79159      8.474601     19.245033      8.164537\n",
              "min        0.82000      0.760000      0.000000      0.000000\n",
              "25%       13.94000     16.665000     47.000000      7.001500\n",
              "50%       20.50000     24.240000     62.000000     12.998000\n",
              "75%       26.24000     31.060000     77.000000     16.997900\n",
              "max       41.00000     45.455000    100.000000     56.996900"
            ],
            "text/html": [
              "\n",
              "  <div id=\"df-7f1df71b-a060-4e44-aae6-a7c76e60b3a1\">\n",
              "    <div class=\"colab-df-container\">\n",
              "      <div>\n",
              "<style scoped>\n",
              "    .dataframe tbody tr th:only-of-type {\n",
              "        vertical-align: middle;\n",
              "    }\n",
              "\n",
              "    .dataframe tbody tr th {\n",
              "        vertical-align: top;\n",
              "    }\n",
              "\n",
              "    .dataframe thead th {\n",
              "        text-align: right;\n",
              "    }\n",
              "</style>\n",
              "<table border=\"1\" class=\"dataframe\">\n",
              "  <thead>\n",
              "    <tr style=\"text-align: right;\">\n",
              "      <th></th>\n",
              "      <th>temp</th>\n",
              "      <th>atemp</th>\n",
              "      <th>humidity</th>\n",
              "      <th>windspeed</th>\n",
              "    </tr>\n",
              "  </thead>\n",
              "  <tbody>\n",
              "    <tr>\n",
              "      <th>count</th>\n",
              "      <td>10886.00000</td>\n",
              "      <td>10886.000000</td>\n",
              "      <td>10886.000000</td>\n",
              "      <td>10886.000000</td>\n",
              "    </tr>\n",
              "    <tr>\n",
              "      <th>mean</th>\n",
              "      <td>20.23086</td>\n",
              "      <td>23.655084</td>\n",
              "      <td>61.886460</td>\n",
              "      <td>12.799395</td>\n",
              "    </tr>\n",
              "    <tr>\n",
              "      <th>std</th>\n",
              "      <td>7.79159</td>\n",
              "      <td>8.474601</td>\n",
              "      <td>19.245033</td>\n",
              "      <td>8.164537</td>\n",
              "    </tr>\n",
              "    <tr>\n",
              "      <th>min</th>\n",
              "      <td>0.82000</td>\n",
              "      <td>0.760000</td>\n",
              "      <td>0.000000</td>\n",
              "      <td>0.000000</td>\n",
              "    </tr>\n",
              "    <tr>\n",
              "      <th>25%</th>\n",
              "      <td>13.94000</td>\n",
              "      <td>16.665000</td>\n",
              "      <td>47.000000</td>\n",
              "      <td>7.001500</td>\n",
              "    </tr>\n",
              "    <tr>\n",
              "      <th>50%</th>\n",
              "      <td>20.50000</td>\n",
              "      <td>24.240000</td>\n",
              "      <td>62.000000</td>\n",
              "      <td>12.998000</td>\n",
              "    </tr>\n",
              "    <tr>\n",
              "      <th>75%</th>\n",
              "      <td>26.24000</td>\n",
              "      <td>31.060000</td>\n",
              "      <td>77.000000</td>\n",
              "      <td>16.997900</td>\n",
              "    </tr>\n",
              "    <tr>\n",
              "      <th>max</th>\n",
              "      <td>41.00000</td>\n",
              "      <td>45.455000</td>\n",
              "      <td>100.000000</td>\n",
              "      <td>56.996900</td>\n",
              "    </tr>\n",
              "  </tbody>\n",
              "</table>\n",
              "</div>\n",
              "      <button class=\"colab-df-convert\" onclick=\"convertToInteractive('df-7f1df71b-a060-4e44-aae6-a7c76e60b3a1')\"\n",
              "              title=\"Convert this dataframe to an interactive table.\"\n",
              "              style=\"display:none;\">\n",
              "        \n",
              "  <svg xmlns=\"http://www.w3.org/2000/svg\" height=\"24px\"viewBox=\"0 0 24 24\"\n",
              "       width=\"24px\">\n",
              "    <path d=\"M0 0h24v24H0V0z\" fill=\"none\"/>\n",
              "    <path d=\"M18.56 5.44l.94 2.06.94-2.06 2.06-.94-2.06-.94-.94-2.06-.94 2.06-2.06.94zm-11 1L8.5 8.5l.94-2.06 2.06-.94-2.06-.94L8.5 2.5l-.94 2.06-2.06.94zm10 10l.94 2.06.94-2.06 2.06-.94-2.06-.94-.94-2.06-.94 2.06-2.06.94z\"/><path d=\"M17.41 7.96l-1.37-1.37c-.4-.4-.92-.59-1.43-.59-.52 0-1.04.2-1.43.59L10.3 9.45l-7.72 7.72c-.78.78-.78 2.05 0 2.83L4 21.41c.39.39.9.59 1.41.59.51 0 1.02-.2 1.41-.59l7.78-7.78 2.81-2.81c.8-.78.8-2.07 0-2.86zM5.41 20L4 18.59l7.72-7.72 1.47 1.35L5.41 20z\"/>\n",
              "  </svg>\n",
              "      </button>\n",
              "      \n",
              "  <style>\n",
              "    .colab-df-container {\n",
              "      display:flex;\n",
              "      flex-wrap:wrap;\n",
              "      gap: 12px;\n",
              "    }\n",
              "\n",
              "    .colab-df-convert {\n",
              "      background-color: #E8F0FE;\n",
              "      border: none;\n",
              "      border-radius: 50%;\n",
              "      cursor: pointer;\n",
              "      display: none;\n",
              "      fill: #1967D2;\n",
              "      height: 32px;\n",
              "      padding: 0 0 0 0;\n",
              "      width: 32px;\n",
              "    }\n",
              "\n",
              "    .colab-df-convert:hover {\n",
              "      background-color: #E2EBFA;\n",
              "      box-shadow: 0px 1px 2px rgba(60, 64, 67, 0.3), 0px 1px 3px 1px rgba(60, 64, 67, 0.15);\n",
              "      fill: #174EA6;\n",
              "    }\n",
              "\n",
              "    [theme=dark] .colab-df-convert {\n",
              "      background-color: #3B4455;\n",
              "      fill: #D2E3FC;\n",
              "    }\n",
              "\n",
              "    [theme=dark] .colab-df-convert:hover {\n",
              "      background-color: #434B5C;\n",
              "      box-shadow: 0px 1px 3px 1px rgba(0, 0, 0, 0.15);\n",
              "      filter: drop-shadow(0px 1px 2px rgba(0, 0, 0, 0.3));\n",
              "      fill: #FFFFFF;\n",
              "    }\n",
              "  </style>\n",
              "\n",
              "      <script>\n",
              "        const buttonEl =\n",
              "          document.querySelector('#df-7f1df71b-a060-4e44-aae6-a7c76e60b3a1 button.colab-df-convert');\n",
              "        buttonEl.style.display =\n",
              "          google.colab.kernel.accessAllowed ? 'block' : 'none';\n",
              "\n",
              "        async function convertToInteractive(key) {\n",
              "          const element = document.querySelector('#df-7f1df71b-a060-4e44-aae6-a7c76e60b3a1');\n",
              "          const dataTable =\n",
              "            await google.colab.kernel.invokeFunction('convertToInteractive',\n",
              "                                                     [key], {});\n",
              "          if (!dataTable) return;\n",
              "\n",
              "          const docLinkHtml = 'Like what you see? Visit the ' +\n",
              "            '<a target=\"_blank\" href=https://colab.research.google.com/notebooks/data_table.ipynb>data table notebook</a>'\n",
              "            + ' to learn more about interactive tables.';\n",
              "          element.innerHTML = '';\n",
              "          dataTable['output_type'] = 'display_data';\n",
              "          await google.colab.output.renderOutput(dataTable, element);\n",
              "          const docLink = document.createElement('div');\n",
              "          docLink.innerHTML = docLinkHtml;\n",
              "          element.appendChild(docLink);\n",
              "        }\n",
              "      </script>\n",
              "    </div>\n",
              "  </div>\n",
              "  "
            ]
          },
          "metadata": {},
          "execution_count": 34
        }
      ]
    },
    {
      "cell_type": "code",
      "source": [
        "R_whisker = np.percentile(df['windspeed'],75)+(np.percentile(df['windspeed'],75)-np.percentile(df['windspeed'],25))*1.5\n",
        "R_whisker"
      ],
      "metadata": {
        "colab": {
          "base_uri": "https://localhost:8080/"
        },
        "id": "MNdNB5zchG-b",
        "outputId": "cb65ff81-9eeb-4f6a-e442-7a5ef9bf5dc4"
      },
      "execution_count": null,
      "outputs": [
        {
          "output_type": "execute_result",
          "data": {
            "text/plain": [
              "31.992500000000003"
            ]
          },
          "metadata": {},
          "execution_count": 35
        }
      ]
    },
    {
      "cell_type": "code",
      "source": [
        "df[df['windspeed']>R_whisker].index.size\n",
        "# 227 outliers showing in windspeed column (using 1.5*IQR method)."
      ],
      "metadata": {
        "colab": {
          "base_uri": "https://localhost:8080/"
        },
        "id": "h3t6buCQeSHP",
        "outputId": "e932d4d7-5219-4b6e-a202-4c8c4d80af51"
      },
      "execution_count": null,
      "outputs": [
        {
          "output_type": "execute_result",
          "data": {
            "text/plain": [
              "227"
            ]
          },
          "metadata": {},
          "execution_count": 36
        }
      ]
    },
    {
      "cell_type": "code",
      "source": [
        "L_whisker = np.percentile(df['humidity'],25)-(np.percentile(df['humidity'],75)-np.percentile(df['humidity'],25))*1.5\n",
        "L_whisker"
      ],
      "metadata": {
        "colab": {
          "base_uri": "https://localhost:8080/"
        },
        "id": "66tS9lD0i0jU",
        "outputId": "5140f60b-951d-4161-96fd-23b79d5587b3"
      },
      "execution_count": null,
      "outputs": [
        {
          "output_type": "execute_result",
          "data": {
            "text/plain": [
              "2.0"
            ]
          },
          "metadata": {},
          "execution_count": 37
        }
      ]
    },
    {
      "cell_type": "code",
      "source": [
        "df[df['humidity']<L_whisker].index.size\n",
        "# 22 outliers showing in humidity column (using 1.5*IQR method)."
      ],
      "metadata": {
        "colab": {
          "base_uri": "https://localhost:8080/"
        },
        "id": "SAJh5UGtjQjh",
        "outputId": "7e4b7844-f892-475f-9076-fcb59369c241"
      },
      "execution_count": null,
      "outputs": [
        {
          "output_type": "execute_result",
          "data": {
            "text/plain": [
              "22"
            ]
          },
          "metadata": {},
          "execution_count": 38
        }
      ]
    },
    {
      "cell_type": "code",
      "source": [
        "# We have found outliers and we could remove,\n",
        "# Since we have limited data, we will keep outliers in funther exploration and test.\n",
        "# earlier we detected single outlier data point in weather column and we fixed it by imputation."
      ],
      "metadata": {
        "id": "hs9HKSJVOB5J"
      },
      "execution_count": null,
      "outputs": []
    },
    {
      "cell_type": "markdown",
      "source": [
        "### Bivariate Data Analysis"
      ],
      "metadata": {
        "id": "ivQ75QBImIFE"
      }
    },
    {
      "cell_type": "code",
      "source": [
        "plt.figure(figsize = [22,5])\n",
        "cat_cols = ['holiday','workingday','weather','season']\n",
        "for i in range (len(cat_cols)):\n",
        "  plt.subplot(1, 4, i+1)\n",
        "  sns.countplot(data=df, x=cat_cols[i],hue=cat_cols[2])"
      ],
      "metadata": {
        "colab": {
          "base_uri": "https://localhost:8080/",
          "height": 263
        },
        "id": "nV3mL-q-n-ck",
        "outputId": "680fc134-cee6-4a7f-d384-10f71e5b6df5"
      },
      "execution_count": null,
      "outputs": [
        {
          "output_type": "display_data",
          "data": {
            "text/plain": [
              "<Figure size 1584x360 with 4 Axes>"
            ],
            "image/png": "[encoded data removed]"
          },
          "metadata": {
            "needs_background": "light"
          }
        }
      ]
    },
    {
      "cell_type": "code",
      "source": [
        "plt.figure(figsize = [22,5])\n",
        "cat_cols = ['holiday','workingday','weather','season']\n",
        "for i in range (len(cat_cols)):\n",
        "  plt.subplot(1, 4, i+1)\n",
        "  sns.countplot(data=df, x=cat_cols[i],hue=cat_cols[1])"
      ],
      "metadata": {
        "colab": {
          "base_uri": "https://localhost:8080/",
          "height": 263
        },
        "id": "eHYgDE_Sontv",
        "outputId": "878b6fe4-8a3b-4b0e-c5bf-02aea258d3b5"
      },
      "execution_count": null,
      "outputs": [
        {
          "output_type": "display_data",
          "data": {
            "text/plain": [
              "<Figure size 1584x360 with 4 Axes>"
            ],
            "image/png": "[encoded data removed]"
          },
          "metadata": {
            "needs_background": "light"
          }
        }
      ]
    },
    {
      "cell_type": "code",
      "source": [
        "plt.figure(figsize = [22,5])\n",
        "cat_cols = ['holiday','workingday','weather','season']\n",
        "for i in range (len(cat_cols)):\n",
        "  plt.subplot(1, 4, i+1)\n",
        "  sns.barplot(data=df, x=cat_cols[i], y='count')"
      ],
      "metadata": {
        "colab": {
          "base_uri": "https://localhost:8080/",
          "height": 264
        },
        "id": "Mmaw8xeSrhEm",
        "outputId": "3ea7fdcb-435a-4b2d-e01f-7b899a74795b"
      },
      "execution_count": null,
      "outputs": [
        {
          "output_type": "display_data",
          "data": {
            "text/plain": [
              "<Figure size 1584x360 with 4 Axes>"
            ],
            "image/png": "[encoded data removed]"
          },
          "metadata": {
            "needs_background": "light"
          }
        }
      ]
    },
    {
      "cell_type": "markdown",
      "source": [
        "### 2 Sample T-Test"
      ],
      "metadata": {
        "id": "yqNmR4FSSRpG"
      }
    },
    {
      "cell_type": "code",
      "source": [
        "# Checking: Does number of electric cycles rented on weekday greater than weekend?\n",
        "\n",
        "null_hypothesis = 'number of electric cycles rented are similer on weekday and weekend'    \n",
        "alternative_hypothesis = 'number of electric cycles rented higher on weekday than weekend'\n",
        "\n",
        "sample1 = df[df['workingday']==0]['count']\n",
        "sample2 = df[df['workingday']==1]['count']\n",
        "t_stat, p_value = ttest_ind(sample1, sample2, equal_var=False, alternative='greater')\n",
        "print(t_stat, p_value)\n",
        "\n",
        "if(p_value < 0.05):\n",
        "  print('Since, p-value < 0.05, the null hypothesis is rejected')\n",
        "  print(alternative_hypothesis)\n",
        "else:\n",
        "  print('Since p-value > 0.05, we fail to reject null hypothesis')\n",
        "  print(null_hypothesis)\n",
        "\n",
        "# conclusion: number of electric cycles rented are similer on weekday and weekend."
      ],
      "metadata": {
        "colab": {
          "base_uri": "https://localhost:8080/"
        },
        "id": "vhACLmBHWwKP",
        "outputId": "567e968c-792b-435d-ba15-25c6311bae9d"
      },
      "execution_count": null,
      "outputs": [
        {
          "output_type": "stream",
          "name": "stdout",
          "text": [
            "-1.2362580418223226 0.8917984385965245\n",
            "Since p-value > 0.05, we fail to reject null hypothesis\n",
            "number of electric cycles rented are similer on weekday and weekend\n"
          ]
        }
      ]
    },
    {
      "cell_type": "code",
      "source": [
        "# Checking: Does the Working Day has an effect on number of electric cycles rented?\n",
        "\n",
        "null_hypothesis = 'Working Day has no effect on number of electric cycles rented'    \n",
        "alternative_hypothesis = 'Working Day has effect on number of electric cycles rented'\n",
        "\n",
        "sample1 = df[df['workingday']==0]['count']\n",
        "sample2 = df[df['workingday']==1]['count']\n",
        "t_stat, p_value = ttest_ind(sample1, sample2)\n",
        "print(t_stat, p_value)\n",
        "\n",
        "if(p_value < 0.05):\n",
        "  print('Since, p-value < 0.05, the null hypothesis is rejected')\n",
        "  print(alternative_hypothesis)\n",
        "else:\n",
        "  print('Since p-value > 0.05, we fail to reject null hypothesis')\n",
        "  print(null_hypothesis)\n",
        "\n",
        "# conclusion: workingday has no effect on number of electric cycles rented."
      ],
      "metadata": {
        "colab": {
          "base_uri": "https://localhost:8080/"
        },
        "id": "NAFyXlZkprYm",
        "outputId": "0b3d9c77-bff9-4fc9-9c8a-ee6230d848a1"
      },
      "execution_count": null,
      "outputs": [
        {
          "output_type": "stream",
          "name": "stdout",
          "text": [
            "-1.2096277376026694 0.22644804226361348\n",
            "Since p-value > 0.05, we fail to reject null hypothesis\n",
            "Working Day has no effect on number of electric cycles rented\n"
          ]
        }
      ]
    },
    {
      "cell_type": "code",
      "source": [
        "print(np.std(sample1),np.std(sample2))\n",
        "# There is not huge difference in standerd deviation, so no need to equalize size of samples."
      ],
      "metadata": {
        "colab": {
          "base_uri": "https://localhost:8080/"
        },
        "id": "3Cv1cYwqUl0M",
        "outputId": "0a7a71be-e8f6-4b2e-eaa0-6cf2400fc87b"
      },
      "execution_count": null,
      "outputs": [
        {
          "output_type": "stream",
          "name": "stdout",
          "text": [
            "173.69901006897658 184.501211667422\n"
          ]
        }
      ]
    },
    {
      "cell_type": "code",
      "source": [
        "df['workingday'].value_counts()\n",
        "# We could make sample size equal for both variable (by considering lesser variable size).\n",
        "# But we are not doing it because it is giving difference p_value and different result when doing same test multiple times.\n",
        "# So we are considering unequal sample size to get fixed p_value (it might increase type 1 error, but it will give sure result)."
      ],
      "metadata": {
        "colab": {
          "base_uri": "https://localhost:8080/"
        },
        "id": "Q1h4tHt5RtbX",
        "outputId": "6515efe5-a849-4392-df16-7d4f0c5767cb"
      },
      "execution_count": null,
      "outputs": [
        {
          "output_type": "execute_result",
          "data": {
            "text/plain": [
              "1    7412\n",
              "0    3474\n",
              "Name: workingday, dtype: int64"
            ]
          },
          "metadata": {},
          "execution_count": 51
        }
      ]
    },
    {
      "cell_type": "markdown",
      "source": [
        "### ANNOVA test"
      ],
      "metadata": {
        "id": "JK9H8Jp3bG-q"
      }
    },
    {
      "cell_type": "code",
      "source": [
        "# Checking : Are the number of cycles rented similar or different in the different seasons?\n",
        "\n",
        "null_hypothesis = 'There is no significant difference in the No. of cycles rented in the different seasons'    \n",
        "alternative_hypothesis = 'There is significant difference in No. of cycles rented in the different seasons'\n",
        "\n",
        "sample1 = df[df['season']==1]['count']\n",
        "sample2 = df[df['season']==2]['count']\n",
        "sample3 = df[df['season']==3]['count']\n",
        "sample4 = df[df['season']==4]['count']\n",
        "t_stat, p_value = f_oneway(sample1,sample2,sample3,sample4)\n",
        "print(t_stat, p_value)\n",
        "\n",
        "if(p_value < 0.05):\n",
        "  print('Since, p-value < 0.05, the null hypothesis is rejected')\n",
        "  print(alternative_hypothesis)\n",
        "else:\n",
        "  print('Since p-value > 0.05, we fail to reject null hypothesis')\n",
        "  print(null_hypothesis)\n",
        "\n",
        "# conclusion: Number of cycles rented are similar in different seasons."
      ],
      "metadata": {
        "colab": {
          "base_uri": "https://localhost:8080/"
        },
        "id": "_t6UhcrkuIvp",
        "outputId": "08f97e12-9807-4ff7-ec15-1c71340f4179"
      },
      "execution_count": null,
      "outputs": [
        {
          "output_type": "stream",
          "name": "stdout",
          "text": [
            "236.94671081032106 6.164843386499654e-149\n",
            "Since, p-value < 0.05, the null hypothesis is rejected\n",
            "There is significant difference in No. of cycles rented in the different seasons\n"
          ]
        }
      ]
    },
    {
      "cell_type": "code",
      "source": [
        "# Checking : Are the number of cycles rented similar or different in the different weather?\n",
        "\n",
        "null_hypothesis = 'There is no significant difference in the No. of cycles rented in the different weather'    \n",
        "alternative_hypothesis = 'There is significant difference in No. of cycles rented in the different weather'\n",
        "\n",
        "sample1 = df[df['weather']==1]['count']\n",
        "sample2 = df[df['weather']==2]['count']\n",
        "sample3 = df[df['weather']==3]['count']\n",
        "t_stat, p_value = f_oneway(sample1,sample2,sample3)\n",
        "print(t_stat, p_value)\n",
        "\n",
        "if(p_value < 0.05):\n",
        "  print('Since, p-value < 0.05, the null hypothesis is rejected')\n",
        "  print(alternative_hypothesis)\n",
        "else:\n",
        "  print('Since p-value > 0.05, we fail to reject null hypothesis')\n",
        "  print(null_hypothesis)\n",
        "\n",
        "# conclusion: Number of cycles rented are similar in different weather."
      ],
      "metadata": {
        "colab": {
          "base_uri": "https://localhost:8080/"
        },
        "id": "YKBfpcjqsonm",
        "outputId": "90e81179-30a7-4328-fd6b-90abab70a8ea"
      },
      "execution_count": null,
      "outputs": [
        {
          "output_type": "stream",
          "name": "stdout",
          "text": [
            "98.2722379440668 5.0317443194291675e-43\n",
            "Since, p-value < 0.05, the null hypothesis is rejected\n",
            "There is significant difference in No. of cycles rented in the different weather\n"
          ]
        }
      ]
    },
    {
      "cell_type": "markdown",
      "source": [
        "### Chi-square test"
      ],
      "metadata": {
        "id": "28K8FBj7t3tx"
      }
    },
    {
      "cell_type": "code",
      "source": [
        "# Checking : Is Weather is dependent on season?\n",
        "\n",
        "null_hypothesis = 'There is no relationship between Weather and Season'    \n",
        "alternative_hypothesis = 'There is relationship between Weather and Season'  \n",
        "\n",
        "contingency = pd.crosstab(df['weather'], df['season'])\n",
        "print(contingency)\n",
        "\n",
        "# p-value calculation\n",
        "p_value = chi2_contingency(contingency)[1]\n",
        "print('p-value:',round(p_value,4))\n",
        "\n",
        "if(p_value < 0.05):\n",
        "  print('Since, p-value < 0.05, the null hypothesis is rejected')\n",
        "  print(alternative_hypothesis)\n",
        "else:\n",
        "  print('Since p-value > 0.05, we fail to reject null hypothesis')\n",
        "  print(null_hypothesis)\n",
        "\n",
        "# conclusion: Weather and Season are dependent."
      ],
      "metadata": {
        "colab": {
          "base_uri": "https://localhost:8080/"
        },
        "id": "OEO8yVwVzQVQ",
        "outputId": "6b5f2dc2-aa4f-4ecf-d347-fcfe524ba3be"
      },
      "execution_count": null,
      "outputs": [
        {
          "output_type": "stream",
          "name": "stdout",
          "text": [
            "season      1     2     3     4\n",
            "weather                        \n",
            "1        1759  1801  1930  1702\n",
            "2         715   708   604   807\n",
            "3         212   224   199   225\n",
            "p-value: 0.0\n",
            "Since, p-value < 0.05, the null hypothesis is rejected\n",
            "There is relationship between Weather and Season\n"
          ]
        }
      ]
    },
    {
      "cell_type": "code",
      "source": [
        "sns.heatmap(pd.crosstab(df['weather'], df['season']), cmap= \"jet\", annot = True, fmt = 'd', square=1, linewidth=1.)\n",
        "plt.show()\n",
        "\n",
        "# Proportion of season differ across different weather. "
      ],
      "metadata": {
        "colab": {
          "base_uri": "https://localhost:8080/",
          "height": 271
        },
        "id": "DNgsFfu5bWGu",
        "outputId": "a789a5fd-313a-4f25-c569-0ee6d09b07d7"
      },
      "execution_count": null,
      "outputs": [
        {
          "output_type": "display_data",
          "data": {
            "text/plain": [
              "<Figure size 432x288 with 2 Axes>"
            ],
            "image/png": "[encoded data removed]"
          },
          "metadata": {
            "needs_background": "light"
          }
        }
      ]
    },
    {
      "cell_type": "code",
      "source": [
        "sns.countplot(data=df, x='season',hue='weather')\n",
        "plt.grid()\n",
        "plt.show()\n",
        "\n",
        "# In season 3 most of the days have weather 1 and less days have with weather 3, Compared to other season.\n",
        "# likelihood of weather 1 is different in different seasons."
      ],
      "metadata": {
        "colab": {
          "base_uri": "https://localhost:8080/",
          "height": 280
        },
        "id": "wSY67nMibl8y",
        "outputId": "35590b36-2c29-460f-bbf4-20aa996fb9c5"
      },
      "execution_count": null,
      "outputs": [
        {
          "output_type": "display_data",
          "data": {
            "text/plain": [
              "<Figure size 432x288 with 1 Axes>"
            ],
            "image/png": "[encoded data removed]"
          },
          "metadata": {
            "needs_background": "light"
          }
        }
      ]
    },
    {
      "cell_type": "markdown",
      "source": [
        "All appropriate insights are mentioned with relevent code as comments. All the results are printed for relevent test. "
      ],
      "metadata": {
        "id": "kTTOhv1DbzLm"
      }
    },
    {
      "cell_type": "markdown",
      "source": [
        "Objective:\n",
        "\n",
        "* Company want to increase their customers\n",
        "\n",
        "* Company want to increase their revenue\n",
        "\n",
        "Comany facing challanges about revenue and want to understand the factors on which the demand for these shared electric cycles depends.\n",
        "\n",
        "\n",
        "Reasons might be:\n",
        "\n",
        "\n",
        "Customer accession problem (less new customers addition) ===\n",
        "\n",
        "* less awareness (people don't know about rent vehicals)\n",
        "\n",
        "* less popularity (people don't know about this company)\n",
        "\n",
        "* less demand (customers no needed for vehicals frequently)\n",
        "\n",
        "* less attraction (people finding better options from other company)\n",
        "\n",
        "* lack of new trends (people not finding product innovative or useful)\n",
        "\n",
        "\n",
        "\n",
        "Customer retention problem (loosing existing customers) ===\n",
        "\n",
        "* Low satisfaction (customer not liking product or service)\n",
        "\n",
        "* Non availability of vehicles (customers not getting vehicals)\n",
        "\n",
        "* Logistical issues (vehicals not available at desired place)\n",
        "\n",
        "* Price issues (customers may find rent unreasonable)\n",
        "\n",
        "* High competition (customers may swiching for better option)\n",
        "\n",
        "\n",
        "Suggestion: \n",
        "\n",
        "* company should use datascince and understand factors associated with demand\n",
        "\n",
        "* company should imporove inventory and logistics management \n",
        "\n",
        "* company should improve suppy demand managemement\n",
        "\n"
      ],
      "metadata": {
        "id": "0u_gF_3Vunnu"
      }
    },
    {
      "cell_type": "markdown",
      "source": [
        "### All in one Hypothesis testing Code"
      ],
      "metadata": {
        "id": "aAMAWpICvC2U"
      }
    },
    {
      "cell_type": "code",
      "source": [
        "Mu = 0\n",
        "Sigma = 18\n",
        "\n",
        "Sample1 = [12, 18, 12, 13, 15, 1, 7,  \n",
        "                        20, 21, 25, 19, 31, 21, 17,  \n",
        "                        17, 15, 19, 15, 12, 15] \n",
        "Sample2 = [23, 22, 24, 25, 21, 26, 21,  \n",
        "                        21, 25, 30, 24, 21, 23, 19,  \n",
        "                        14, 18, 14, 12, 19, 15] \n",
        "Sample3 = [0.0864, 0.2522, 0.0894, 0.2724, 0.0853, 0.1367, 0.853]\n",
        "\n",
        "\n",
        "Samples = [Sample1, Sample2,Sample3]\n",
        "alpha = 0.05 \n",
        "alternative = 'two-sided'  # 'less' , 'greater'\n",
        "H0 = 'means are equal'       # Sample1>=Sample2    # Sample1<=Sample2\n",
        "Ha = 'means are not equal'   # Sample1<Sample2     # Sample1>Sample2\n",
        "print('null hypothesis:',H0)\n",
        "print(len(Samples), 'Sample')\n",
        "\n",
        "\n",
        "if not all(Samples):\n",
        "  print('Check Samples detail?')\n",
        "  exit()\n",
        "\n",
        "if type(Sample1[0])==list:\n",
        "  print('Chi square test')\n",
        "  from scipy.stats import chi2_contingency  \n",
        "  test, p_val, dof, expected_val = chi2_contingency(Sample1)  \n",
        "  print(\"p-value is: \" + str(p_val)) \n",
        "  if p_val <= alpha:  \n",
        "      print('We can reject the null hypothesis')  \n",
        "  else:  \n",
        "      print('We can accept the null hypothesis')  \n",
        "  \n",
        "elif len(Samples)>2:\n",
        "  print('Anova f test')\n",
        "  from scipy.stats import f_oneway  \n",
        "  f_test, p_val = f_oneway(*Samples)  \n",
        "  print(\"p-value is: \" + str(p_val))\n",
        "  if p_val < alpha:      \n",
        "      print(\"We can reject the null hypothesis\")  \n",
        "  else:  \n",
        "      print(\"We can accept the null hypothesis\")  \n",
        "  \n",
        "elif len(Samples)>1:\n",
        "  print('t-test')\n",
        "  from scipy.stats import ttest_ind \n",
        "  t_test,p_val = ttest_ind(*Samples, alternative=alternative)\n",
        "  print(\"p-value of independent t-test is: \", p_val)\n",
        "  if p_val < alpha:      \n",
        "      print(\"We can reject the null hypothesis\")  \n",
        "  else:  \n",
        "      print(\"We can accept the null hypothesis\") \n",
        "  from scipy.stats import ttest_rel\n",
        "  t_test, p_val = ttest_rel(*Samples, alternative=alternative)  \n",
        "  print(\"p-value of the paried t-test is: \", p_val)\n",
        "  # taking the threshold value as 0.05 or 5%  \n",
        "  if p_val < 0.05:  \n",
        "      print(\"We can reject the null hypothesis\")  \n",
        "  else:  \n",
        "      print(\"We can accept the null hypothesis\") \n",
        "    \n",
        "  \n",
        "elif len(Samples)==1:\n",
        "  print('t test')\n",
        "  from scipy.stats import ttest_1samp\t\t\t\n",
        "  t_stat, p_val = ttest_1samp(Sample1, Sigma, alternative=alternative)\t\n",
        "  print(\"P-value is: \", p_val)  \n",
        "  if p_val < 0.05:      \n",
        "      print(\" We can reject the null hypothesis\")  \n",
        "  else:  \n",
        "      print(\"We can accept the null hypothesis\") \n"
      ],
      "metadata": {
        "colab": {
          "base_uri": "https://localhost:8080/"
        },
        "id": "PYQQ_s5-Zlnl",
        "outputId": "8f911c13-303f-466e-fbc9-ad194b7f0f6f"
      },
      "execution_count": null,
      "outputs": [
        {
          "output_type": "stream",
          "name": "stdout",
          "text": [
            "null hypothesis: means are equal\n",
            "3 Sample\n",
            "Anova f test\n",
            "p-value is: 6.533367433350502e-11\n",
            "We can reject the null hypothesis\n"
          ]
        }
      ]
    }
  ]
}